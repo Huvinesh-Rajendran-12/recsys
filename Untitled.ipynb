{
 "cells": [
  {
   "cell_type": "code",
   "execution_count": 1,
   "id": "c167114a-d4c3-46ab-8778-0b652f660e1b",
   "metadata": {},
   "outputs": [
    {
     "name": "stdout",
     "output_type": "stream",
     "text": [
      "Looking in indexes: https://pypi.org/simple, https://pypi.ngc.nvidia.com\n",
      "Requirement already satisfied: graphdatascience in /Users/huvinesh/Library/Caches/pypoetry/virtualenvs/telemerecsys-3r64CPxB-py3.12/lib/python3.12/site-packages (1.10)\n",
      "Requirement already satisfied: multimethod<2.0,>=1.0 in /Users/huvinesh/Library/Caches/pypoetry/virtualenvs/telemerecsys-3r64CPxB-py3.12/lib/python3.12/site-packages (from graphdatascience) (1.11.2)\n",
      "Requirement already satisfied: neo4j<6.0,>=4.4.2 in /Users/huvinesh/Library/Caches/pypoetry/virtualenvs/telemerecsys-3r64CPxB-py3.12/lib/python3.12/site-packages (from graphdatascience) (5.18.0)\n",
      "Requirement already satisfied: pandas<3.0,>=1.0 in /Users/huvinesh/Library/Caches/pypoetry/virtualenvs/telemerecsys-3r64CPxB-py3.12/lib/python3.12/site-packages (from graphdatascience) (2.2.1)\n",
      "Requirement already satisfied: pyarrow<16.0,>=11.0 in /Users/huvinesh/Library/Caches/pypoetry/virtualenvs/telemerecsys-3r64CPxB-py3.12/lib/python3.12/site-packages (from graphdatascience) (15.0.2)\n",
      "Requirement already satisfied: textdistance<5.0,>=4.0 in /Users/huvinesh/Library/Caches/pypoetry/virtualenvs/telemerecsys-3r64CPxB-py3.12/lib/python3.12/site-packages (from graphdatascience) (4.6.1)\n",
      "Requirement already satisfied: tqdm<5.0,>=4.0 in /Users/huvinesh/Library/Caches/pypoetry/virtualenvs/telemerecsys-3r64CPxB-py3.12/lib/python3.12/site-packages (from graphdatascience) (4.66.2)\n",
      "Requirement already satisfied: typing-extensions<5.0,>=4.0 in /Users/huvinesh/Library/Caches/pypoetry/virtualenvs/telemerecsys-3r64CPxB-py3.12/lib/python3.12/site-packages (from graphdatascience) (4.10.0)\n",
      "Requirement already satisfied: requests in /Users/huvinesh/Library/Caches/pypoetry/virtualenvs/telemerecsys-3r64CPxB-py3.12/lib/python3.12/site-packages (from graphdatascience) (2.31.0)\n",
      "Requirement already satisfied: pytz in /Users/huvinesh/Library/Caches/pypoetry/virtualenvs/telemerecsys-3r64CPxB-py3.12/lib/python3.12/site-packages (from neo4j<6.0,>=4.4.2->graphdatascience) (2024.1)\n",
      "Requirement already satisfied: numpy<2,>=1.26.0 in /Users/huvinesh/Library/Caches/pypoetry/virtualenvs/telemerecsys-3r64CPxB-py3.12/lib/python3.12/site-packages (from pandas<3.0,>=1.0->graphdatascience) (1.26.4)\n",
      "Requirement already satisfied: python-dateutil>=2.8.2 in /Users/huvinesh/Library/Caches/pypoetry/virtualenvs/telemerecsys-3r64CPxB-py3.12/lib/python3.12/site-packages (from pandas<3.0,>=1.0->graphdatascience) (2.9.0.post0)\n",
      "Requirement already satisfied: tzdata>=2022.7 in /Users/huvinesh/Library/Caches/pypoetry/virtualenvs/telemerecsys-3r64CPxB-py3.12/lib/python3.12/site-packages (from pandas<3.0,>=1.0->graphdatascience) (2024.1)\n",
      "Requirement already satisfied: charset-normalizer<4,>=2 in /Users/huvinesh/Library/Caches/pypoetry/virtualenvs/telemerecsys-3r64CPxB-py3.12/lib/python3.12/site-packages (from requests->graphdatascience) (3.3.2)\n",
      "Requirement already satisfied: idna<4,>=2.5 in /Users/huvinesh/Library/Caches/pypoetry/virtualenvs/telemerecsys-3r64CPxB-py3.12/lib/python3.12/site-packages (from requests->graphdatascience) (3.6)\n",
      "Requirement already satisfied: urllib3<3,>=1.21.1 in /Users/huvinesh/Library/Caches/pypoetry/virtualenvs/telemerecsys-3r64CPxB-py3.12/lib/python3.12/site-packages (from requests->graphdatascience) (2.2.1)\n",
      "Requirement already satisfied: certifi>=2017.4.17 in /Users/huvinesh/Library/Caches/pypoetry/virtualenvs/telemerecsys-3r64CPxB-py3.12/lib/python3.12/site-packages (from requests->graphdatascience) (2024.2.2)\n",
      "Requirement already satisfied: six>=1.5 in /Users/huvinesh/Library/Caches/pypoetry/virtualenvs/telemerecsys-3r64CPxB-py3.12/lib/python3.12/site-packages (from python-dateutil>=2.8.2->pandas<3.0,>=1.0->graphdatascience) (1.16.0)\n",
      "Note: you may need to restart the kernel to use updated packages.\n"
     ]
    }
   ],
   "source": [
    "# Install necessary dependencies\n",
    "%pip install graphdatascience"
   ]
  },
  {
   "cell_type": "code",
   "execution_count": 2,
   "id": "f6c6a0b9-b845-40c0-920e-1cc9a8f84f89",
   "metadata": {},
   "outputs": [
    {
     "name": "stderr",
     "output_type": "stream",
     "text": [
      "/Users/huvinesh/Library/Caches/pypoetry/virtualenvs/telemerecsys-3r64CPxB-py3.12/lib/python3.12/site-packages/tqdm/auto.py:21: TqdmWarning: IProgress not found. Please update jupyter and ipywidgets. See https://ipywidgets.readthedocs.io/en/stable/user_install.html\n",
      "  from .autonotebook import tqdm as notebook_tqdm\n"
     ]
    }
   ],
   "source": [
    "import os\n",
    "from graphdatascience import GraphDataScience\n",
    "from neo4j import GraphDatabase"
   ]
  },
  {
   "cell_type": "code",
   "execution_count": 3,
   "id": "2151545a-b9ee-48ab-8cdc-f3f3be035782",
   "metadata": {},
   "outputs": [],
   "source": [
    "gds = GraphDataScience(\"bolt://127.0.0.1:7687\", (\"huvi\", \"huvinesh#\"))"
   ]
  },
  {
   "cell_type": "code",
   "execution_count": 4,
   "id": "f03fca32-681e-4a9f-95ae-0bac8592c968",
   "metadata": {},
   "outputs": [],
   "source": [
    "driver = GraphDatabase.driver(\"bolt://127.0.0.1:7687\", auth=(\"huvi\", \"huvinesh#\"))"
   ]
  },
  {
   "cell_type": "code",
   "execution_count": 5,
   "id": "690ba93f-cded-48f3-9b05-6e68b231473d",
   "metadata": {},
   "outputs": [],
   "source": [
    "from graphdatascience.server_version.server_version import ServerVersion\n",
    "\n",
    "assert gds.server_version() >= ServerVersion(1, 8, 0)"
   ]
  },
  {
   "cell_type": "code",
   "execution_count": 6,
   "id": "62fb09df-20fa-4fd4-8bfe-3fa4df0e6723",
   "metadata": {},
   "outputs": [],
   "source": [
    " # The `run_cypher` method can be used to run arbitrary Cypher queries on the database.\n",
    "_ = gds.run_cypher(\n",
    "    \"\"\"\n",
    "        CREATE\n",
    "         (dan:Person {name: 'Dan'}),\n",
    "         (annie:Person {name: 'Annie'}),\n",
    "         (matt:Person {name: 'Matt'}),\n",
    "         (jeff:Person {name: 'Jeff'}),\n",
    "         (brie:Person {name: 'Brie'}),\n",
    "         (elsa:Person {name: 'Elsa'}),\n",
    "\n",
    "         (cookies:Product {name: 'Cookies'}),\n",
    "         (tomatoes:Product {name: 'Tomatoes'}),\n",
    "         (cucumber:Product {name: 'Cucumber'}),\n",
    "         (celery:Product {name: 'Celery'}),\n",
    "         (kale:Product {name: 'Kale'}),\n",
    "         (milk:Product {name: 'Milk'}),\n",
    "         (chocolate:Product {name: 'Chocolate'}),\n",
    "\n",
    "         (dan)-[:BUYS {amount: 1.2}]->(cookies),\n",
    "         (dan)-[:BUYS {amount: 3.2}]->(milk),\n",
    "         (dan)-[:BUYS {amount: 2.2}]->(chocolate),\n",
    "\n",
    "         (annie)-[:BUYS {amount: 1.2}]->(cucumber),\n",
    "         (annie)-[:BUYS {amount: 3.2}]->(milk),\n",
    "         (annie)-[:BUYS {amount: 3.2}]->(tomatoes),\n",
    "\n",
    "         (matt)-[:BUYS {amount: 3}]->(tomatoes),\n",
    "         (matt)-[:BUYS {amount: 2}]->(kale),\n",
    "         (matt)-[:BUYS {amount: 1}]->(cucumber),\n",
    "\n",
    "         (jeff)-[:BUYS {amount: 3}]->(cookies),\n",
    "         (jeff)-[:BUYS {amount: 2}]->(milk),\n",
    "\n",
    "         (brie)-[:BUYS {amount: 1}]->(tomatoes),\n",
    "         (brie)-[:BUYS {amount: 2}]->(milk),\n",
    "         (brie)-[:BUYS {amount: 2}]->(kale),\n",
    "         (brie)-[:BUYS {amount: 3}]->(cucumber),\n",
    "         (brie)-[:BUYS {amount: 0.3}]->(celery),\n",
    "\n",
    "         (elsa)-[:BUYS {amount: 3}]->(chocolate),\n",
    "         (elsa)-[:BUYS {amount: 3}]->(milk)\n",
    "    \"\"\"\n",
    ")"
   ]
  },
  {
   "cell_type": "code",
   "execution_count": 7,
   "id": "00fb302e-87e1-492f-82a2-1b1a7c868d14",
   "metadata": {},
   "outputs": [
    {
     "name": "stdout",
     "output_type": "stream",
     "text": [
      "Required memory for native loading: [549 KiB ... 1030 KiB]\n"
     ]
    }
   ],
   "source": [
    "# We define how we want to project our database into GDS\n",
    "node_projection = [\"Person\", \"Product\"]\n",
    "relationship_projection = {\"BUYS\": {\"orientation\": \"UNDIRECTED\", \"properties\": \"amount\"}}\n",
    "\n",
    "# Before actually going through with the projection, let's check how much memory is required\n",
    "result = gds.graph.project.estimate(node_projection, relationship_projection)\n",
    "\n",
    "print(f\"Required memory for native loading: {result['requiredMemory']}\")"
   ]
  },
  {
   "cell_type": "code",
   "execution_count": 8,
   "id": "26926821-7fce-4551-91b5-b8501505b8e5",
   "metadata": {},
   "outputs": [
    {
     "name": "stdout",
     "output_type": "stream",
     "text": [
      "The projection took 170 ms\n",
      "Graph 'purchases' node count: 182\n",
      "Graph 'purchases' node labels: ['Product', 'Person']\n"
     ]
    }
   ],
   "source": [
    "# For this small graph memory requirement is low. Let us go through with the projection\n",
    "G, result = gds.graph.project(\"purchases\", node_projection, relationship_projection)\n",
    "\n",
    "print(f\"The projection took {result['projectMillis']} ms\")\n",
    "\n",
    "# We can use convenience methods on `G` to check if the projection looks correct\n",
    "print(f\"Graph '{G.name()}' node count: {G.node_count()}\")\n",
    "print(f\"Graph '{G.name()}' node labels: {G.node_labels()}\")"
   ]
  },
  {
   "cell_type": "code",
   "execution_count": 9,
   "id": "2a9609c3-9d33-46e5-b789-6be7206e7a5f",
   "metadata": {},
   "outputs": [
    {
     "name": "stdout",
     "output_type": "stream",
     "text": [
      "Required memory for running FastRP: 25 KiB\n"
     ]
    }
   ],
   "source": [
    "# We can also estimate memory of running algorithms like FastRP, so let's do that first\n",
    "result = gds.fastRP.mutate.estimate(\n",
    "    G,\n",
    "    mutateProperty=\"embedding\",\n",
    "    randomSeed=42,\n",
    "    embeddingDimension=4,\n",
    "    relationshipWeightProperty=\"amount\",\n",
    "    iterationWeights=[0.8, 1, 1, 1],\n",
    ")\n",
    "\n",
    "print(f\"Required memory for running FastRP: {result['requiredMemory']}\")"
   ]
  },
  {
   "cell_type": "code",
   "execution_count": 10,
   "id": "28521b78-01b0-4d44-b2ee-d5e9e16091f6",
   "metadata": {},
   "outputs": [
    {
     "name": "stdout",
     "output_type": "stream",
     "text": [
      "Number of embedding vectors produced: 182\n"
     ]
    }
   ],
   "source": [
    "# Now let's run FastRP and mutate our projected graph 'purchases' with the results\n",
    "result = gds.fastRP.mutate(\n",
    "    G,\n",
    "    mutateProperty=\"embedding\",\n",
    "    randomSeed=42,\n",
    "    embeddingDimension=4,\n",
    "    relationshipWeightProperty=\"amount\",\n",
    "    iterationWeights=[0.8, 1, 1, 1],\n",
    ")\n",
    "\n",
    "# Let's make sure we got an embedding for each node\n",
    "print(f\"Number of embedding vectors produced: {result['nodePropertiesWritten']}\")"
   ]
  },
  {
   "cell_type": "code",
   "execution_count": 11,
   "id": "fea43d46-26b2-496b-9a9f-0ddb9eaeecff",
   "metadata": {},
   "outputs": [
    {
     "name": "stdout",
     "output_type": "stream",
     "text": [
      "Relationships produced: 1820\n",
      "Nodes compared: 182\n",
      "Mean similarity: 0.057306920565091644\n"
     ]
    }
   ],
   "source": [
    "# Run kNN and write back to db (we skip memory estimation this time...)\n",
    "result = gds.knn.write(\n",
    "    G,\n",
    "    topK=10,\n",
    "    nodeProperties=[\"embedding\"],\n",
    "    randomSeed=42,\n",
    "    concurrency=1,\n",
    "    sampleRate=1.0,\n",
    "    deltaThreshold=0.0,\n",
    "    writeRelationshipType=\"SIMILAR\",\n",
    "    writeProperty=\"score\",\n",
    ")\n",
    "\n",
    "print(f\"Relationships produced: {result['relationshipsWritten']}\")\n",
    "print(f\"Nodes compared: {result['nodesCompared']}\")\n",
    "print(f\"Mean similarity: {result['similarityDistribution']['mean']}\")"
   ]
  },
  {
   "cell_type": "code",
   "execution_count": 12,
   "id": "2f809d1a-9747-4536-8619-8b1c996bb977",
   "metadata": {},
   "outputs": [],
   "source": [
    "results = gds.run_cypher(\n",
    "    \"\"\"\n",
    "        MATCH (p1:Person)-[r:SIMILAR]->(p2:Person {name: \"Brie\"})\n",
    "        RETURN p1.name AS person1, p2.name AS person2, r.score AS similarity\n",
    "        ORDER BY similarity DESCENDING\n",
    "    \"\"\"\n",
    ")"
   ]
  },
  {
   "cell_type": "code",
   "execution_count": 13,
   "id": "b4c3e071-7c0f-413d-b0de-d171717eb704",
   "metadata": {},
   "outputs": [
    {
     "data": {
      "text/html": [
       "<div>\n",
       "<style scoped>\n",
       "    .dataframe tbody tr th:only-of-type {\n",
       "        vertical-align: middle;\n",
       "    }\n",
       "\n",
       "    .dataframe tbody tr th {\n",
       "        vertical-align: top;\n",
       "    }\n",
       "\n",
       "    .dataframe thead th {\n",
       "        text-align: right;\n",
       "    }\n",
       "</style>\n",
       "<table border=\"1\" class=\"dataframe\">\n",
       "  <thead>\n",
       "    <tr style=\"text-align: right;\">\n",
       "      <th></th>\n",
       "      <th>person1</th>\n",
       "      <th>person2</th>\n",
       "      <th>similarity</th>\n",
       "    </tr>\n",
       "  </thead>\n",
       "  <tbody>\n",
       "    <tr>\n",
       "      <th>0</th>\n",
       "      <td>Annie</td>\n",
       "      <td>Brie</td>\n",
       "      <td>0.994913</td>\n",
       "    </tr>\n",
       "    <tr>\n",
       "      <th>1</th>\n",
       "      <td>Dan</td>\n",
       "      <td>Brie</td>\n",
       "      <td>0.992308</td>\n",
       "    </tr>\n",
       "    <tr>\n",
       "      <th>2</th>\n",
       "      <td>Dan</td>\n",
       "      <td>Brie</td>\n",
       "      <td>0.992308</td>\n",
       "    </tr>\n",
       "    <tr>\n",
       "      <th>3</th>\n",
       "      <td>Matt</td>\n",
       "      <td>Brie</td>\n",
       "      <td>0.991966</td>\n",
       "    </tr>\n",
       "    <tr>\n",
       "      <th>4</th>\n",
       "      <td>Elsa</td>\n",
       "      <td>Brie</td>\n",
       "      <td>0.984722</td>\n",
       "    </tr>\n",
       "    <tr>\n",
       "      <th>5</th>\n",
       "      <td>Matt</td>\n",
       "      <td>Brie</td>\n",
       "      <td>0.979399</td>\n",
       "    </tr>\n",
       "    <tr>\n",
       "      <th>6</th>\n",
       "      <td>Matt</td>\n",
       "      <td>Brie</td>\n",
       "      <td>0.979399</td>\n",
       "    </tr>\n",
       "    <tr>\n",
       "      <th>7</th>\n",
       "      <td>Annie</td>\n",
       "      <td>Brie</td>\n",
       "      <td>0.973954</td>\n",
       "    </tr>\n",
       "    <tr>\n",
       "      <th>8</th>\n",
       "      <td>Annie</td>\n",
       "      <td>Brie</td>\n",
       "      <td>0.970427</td>\n",
       "    </tr>\n",
       "    <tr>\n",
       "      <th>9</th>\n",
       "      <td>Annie</td>\n",
       "      <td>Brie</td>\n",
       "      <td>0.970427</td>\n",
       "    </tr>\n",
       "    <tr>\n",
       "      <th>10</th>\n",
       "      <td>Annie</td>\n",
       "      <td>Brie</td>\n",
       "      <td>0.970427</td>\n",
       "    </tr>\n",
       "    <tr>\n",
       "      <th>11</th>\n",
       "      <td>Matt</td>\n",
       "      <td>Brie</td>\n",
       "      <td>0.961968</td>\n",
       "    </tr>\n",
       "    <tr>\n",
       "      <th>12</th>\n",
       "      <td>Annie</td>\n",
       "      <td>Brie</td>\n",
       "      <td>0.959928</td>\n",
       "    </tr>\n",
       "    <tr>\n",
       "      <th>13</th>\n",
       "      <td>Matt</td>\n",
       "      <td>Brie</td>\n",
       "      <td>0.940876</td>\n",
       "    </tr>\n",
       "    <tr>\n",
       "      <th>14</th>\n",
       "      <td>Matt</td>\n",
       "      <td>Brie</td>\n",
       "      <td>0.940876</td>\n",
       "    </tr>\n",
       "    <tr>\n",
       "      <th>15</th>\n",
       "      <td>Elsa</td>\n",
       "      <td>Brie</td>\n",
       "      <td>0.925389</td>\n",
       "    </tr>\n",
       "    <tr>\n",
       "      <th>16</th>\n",
       "      <td>Jeff</td>\n",
       "      <td>Brie</td>\n",
       "      <td>0.923140</td>\n",
       "    </tr>\n",
       "    <tr>\n",
       "      <th>17</th>\n",
       "      <td>Dan</td>\n",
       "      <td>Brie</td>\n",
       "      <td>0.921712</td>\n",
       "    </tr>\n",
       "    <tr>\n",
       "      <th>18</th>\n",
       "      <td>Dan</td>\n",
       "      <td>Brie</td>\n",
       "      <td>0.921712</td>\n",
       "    </tr>\n",
       "    <tr>\n",
       "      <th>19</th>\n",
       "      <td>Jeff</td>\n",
       "      <td>Brie</td>\n",
       "      <td>0.917088</td>\n",
       "    </tr>\n",
       "    <tr>\n",
       "      <th>20</th>\n",
       "      <td>Dan</td>\n",
       "      <td>Brie</td>\n",
       "      <td>0.902040</td>\n",
       "    </tr>\n",
       "    <tr>\n",
       "      <th>21</th>\n",
       "      <td>Matt</td>\n",
       "      <td>Brie</td>\n",
       "      <td>0.889262</td>\n",
       "    </tr>\n",
       "    <tr>\n",
       "      <th>22</th>\n",
       "      <td>Matt</td>\n",
       "      <td>Brie</td>\n",
       "      <td>0.889262</td>\n",
       "    </tr>\n",
       "    <tr>\n",
       "      <th>23</th>\n",
       "      <td>Annie</td>\n",
       "      <td>Brie</td>\n",
       "      <td>0.884175</td>\n",
       "    </tr>\n",
       "    <tr>\n",
       "      <th>24</th>\n",
       "      <td>Jeff</td>\n",
       "      <td>Brie</td>\n",
       "      <td>0.787526</td>\n",
       "    </tr>\n",
       "    <tr>\n",
       "      <th>25</th>\n",
       "      <td>Elsa</td>\n",
       "      <td>Brie</td>\n",
       "      <td>0.787189</td>\n",
       "    </tr>\n",
       "    <tr>\n",
       "      <th>26</th>\n",
       "      <td>Elsa</td>\n",
       "      <td>Brie</td>\n",
       "      <td>0.787189</td>\n",
       "    </tr>\n",
       "    <tr>\n",
       "      <th>27</th>\n",
       "      <td>Elsa</td>\n",
       "      <td>Brie</td>\n",
       "      <td>0.630355</td>\n",
       "    </tr>\n",
       "    <tr>\n",
       "      <th>28</th>\n",
       "      <td>Dan</td>\n",
       "      <td>Brie</td>\n",
       "      <td>0.606169</td>\n",
       "    </tr>\n",
       "    <tr>\n",
       "      <th>29</th>\n",
       "      <td>Jeff</td>\n",
       "      <td>Brie</td>\n",
       "      <td>0.529042</td>\n",
       "    </tr>\n",
       "    <tr>\n",
       "      <th>30</th>\n",
       "      <td>Matt</td>\n",
       "      <td>Brie</td>\n",
       "      <td>0.000000</td>\n",
       "    </tr>\n",
       "    <tr>\n",
       "      <th>31</th>\n",
       "      <td>Jeff</td>\n",
       "      <td>Brie</td>\n",
       "      <td>0.000000</td>\n",
       "    </tr>\n",
       "    <tr>\n",
       "      <th>32</th>\n",
       "      <td>Thevitra</td>\n",
       "      <td>Brie</td>\n",
       "      <td>0.000000</td>\n",
       "    </tr>\n",
       "    <tr>\n",
       "      <th>33</th>\n",
       "      <td>Thevitra</td>\n",
       "      <td>Brie</td>\n",
       "      <td>0.000000</td>\n",
       "    </tr>\n",
       "    <tr>\n",
       "      <th>34</th>\n",
       "      <td>Nabil</td>\n",
       "      <td>Brie</td>\n",
       "      <td>0.000000</td>\n",
       "    </tr>\n",
       "    <tr>\n",
       "      <th>35</th>\n",
       "      <td>Matt</td>\n",
       "      <td>Brie</td>\n",
       "      <td>0.000000</td>\n",
       "    </tr>\n",
       "    <tr>\n",
       "      <th>36</th>\n",
       "      <td>Dan</td>\n",
       "      <td>Brie</td>\n",
       "      <td>0.000000</td>\n",
       "    </tr>\n",
       "    <tr>\n",
       "      <th>37</th>\n",
       "      <td>Jeff</td>\n",
       "      <td>Brie</td>\n",
       "      <td>0.000000</td>\n",
       "    </tr>\n",
       "    <tr>\n",
       "      <th>38</th>\n",
       "      <td>David</td>\n",
       "      <td>Brie</td>\n",
       "      <td>0.000000</td>\n",
       "    </tr>\n",
       "    <tr>\n",
       "      <th>39</th>\n",
       "      <td>Jimmy</td>\n",
       "      <td>Brie</td>\n",
       "      <td>0.000000</td>\n",
       "    </tr>\n",
       "    <tr>\n",
       "      <th>40</th>\n",
       "      <td>Jimmy</td>\n",
       "      <td>Brie</td>\n",
       "      <td>0.000000</td>\n",
       "    </tr>\n",
       "  </tbody>\n",
       "</table>\n",
       "</div>"
      ],
      "text/plain": [
       "     person1 person2  similarity\n",
       "0      Annie    Brie    0.994913\n",
       "1        Dan    Brie    0.992308\n",
       "2        Dan    Brie    0.992308\n",
       "3       Matt    Brie    0.991966\n",
       "4       Elsa    Brie    0.984722\n",
       "5       Matt    Brie    0.979399\n",
       "6       Matt    Brie    0.979399\n",
       "7      Annie    Brie    0.973954\n",
       "8      Annie    Brie    0.970427\n",
       "9      Annie    Brie    0.970427\n",
       "10     Annie    Brie    0.970427\n",
       "11      Matt    Brie    0.961968\n",
       "12     Annie    Brie    0.959928\n",
       "13      Matt    Brie    0.940876\n",
       "14      Matt    Brie    0.940876\n",
       "15      Elsa    Brie    0.925389\n",
       "16      Jeff    Brie    0.923140\n",
       "17       Dan    Brie    0.921712\n",
       "18       Dan    Brie    0.921712\n",
       "19      Jeff    Brie    0.917088\n",
       "20       Dan    Brie    0.902040\n",
       "21      Matt    Brie    0.889262\n",
       "22      Matt    Brie    0.889262\n",
       "23     Annie    Brie    0.884175\n",
       "24      Jeff    Brie    0.787526\n",
       "25      Elsa    Brie    0.787189\n",
       "26      Elsa    Brie    0.787189\n",
       "27      Elsa    Brie    0.630355\n",
       "28       Dan    Brie    0.606169\n",
       "29      Jeff    Brie    0.529042\n",
       "30      Matt    Brie    0.000000\n",
       "31      Jeff    Brie    0.000000\n",
       "32  Thevitra    Brie    0.000000\n",
       "33  Thevitra    Brie    0.000000\n",
       "34     Nabil    Brie    0.000000\n",
       "35      Matt    Brie    0.000000\n",
       "36       Dan    Brie    0.000000\n",
       "37      Jeff    Brie    0.000000\n",
       "38     David    Brie    0.000000\n",
       "39     Jimmy    Brie    0.000000\n",
       "40     Jimmy    Brie    0.000000"
      ]
     },
     "execution_count": 13,
     "metadata": {},
     "output_type": "execute_result"
    }
   ],
   "source": [
    "results"
   ]
  },
  {
   "cell_type": "code",
   "execution_count": 14,
   "id": "d0be2408-0fcd-4bb7-9d37-bbb24f0c0ae1",
   "metadata": {},
   "outputs": [
    {
     "data": {
      "text/html": [
       "<div>\n",
       "<style scoped>\n",
       "    .dataframe tbody tr th:only-of-type {\n",
       "        vertical-align: middle;\n",
       "    }\n",
       "\n",
       "    .dataframe tbody tr th {\n",
       "        vertical-align: top;\n",
       "    }\n",
       "\n",
       "    .dataframe thead th {\n",
       "        text-align: right;\n",
       "    }\n",
       "</style>\n",
       "<table border=\"1\" class=\"dataframe\">\n",
       "  <thead>\n",
       "    <tr style=\"text-align: right;\">\n",
       "      <th></th>\n",
       "      <th>a1.name</th>\n",
       "    </tr>\n",
       "  </thead>\n",
       "  <tbody>\n",
       "    <tr>\n",
       "      <th>0</th>\n",
       "      <td>Milk</td>\n",
       "    </tr>\n",
       "    <tr>\n",
       "      <th>1</th>\n",
       "      <td>Tomatoes</td>\n",
       "    </tr>\n",
       "    <tr>\n",
       "      <th>2</th>\n",
       "      <td>Cucumber</td>\n",
       "    </tr>\n",
       "  </tbody>\n",
       "</table>\n",
       "</div>"
      ],
      "text/plain": [
       "    a1.name\n",
       "0      Milk\n",
       "1  Tomatoes\n",
       "2  Cucumber"
      ]
     },
     "execution_count": 14,
     "metadata": {},
     "output_type": "execute_result"
    }
   ],
   "source": [
    "gds.run_cypher(\"\"\"\n",
    "    UNWIND $data as row\n",
    "    MATCH(: Person {name:row.person1[0]})-[:BUYS]->(a1:Product)\n",
    "    RETURN DISTINCT a1.name\n",
    "\"\"\", params={\"data\":results})"
   ]
  },
  {
   "cell_type": "code",
   "execution_count": 15,
   "id": "708b2018-8989-436d-9f0b-d9c6767a49dd",
   "metadata": {},
   "outputs": [],
   "source": [
    "recommendations = gds.run_cypher(\"\"\"\n",
    "        UNWIND $data as row\n",
    "        MATCH (:Person {name: row.person1[0]})-[:BUYS]->(p1:Product)\n",
    "        MATCH (:Person {name: row.person2[0]})-[:BUYS]->(p2:Product)\n",
    "        WITH collect(p1) as products, p2\n",
    "        WHERE not p2 in products\n",
    "        RETURN distinct p2.name as recommendation\"\"\", params={\"data\":results})"
   ]
  },
  {
   "cell_type": "code",
   "execution_count": 16,
   "id": "d6806355-71f3-4e47-b822-9ce22c2aeaba",
   "metadata": {},
   "outputs": [
    {
     "name": "stdout",
     "output_type": "stream",
     "text": [
      "Kale\n",
      "Celery\n"
     ]
    }
   ],
   "source": [
    "for recommend in recommendations['recommendation']:\n",
    "    print(recommend)"
   ]
  },
  {
   "cell_type": "code",
   "execution_count": 17,
   "id": "40c9a829-da10-4e06-b0d0-fb1fd43049ea",
   "metadata": {},
   "outputs": [
    {
     "data": {
      "text/plain": [
       "2"
      ]
     },
     "execution_count": 17,
     "metadata": {},
     "output_type": "execute_result"
    }
   ],
   "source": [
    "len(recommendations)"
   ]
  },
  {
   "cell_type": "code",
   "execution_count": null,
   "id": "113226e5-b00d-4838-bf79-0543ebe7b99a",
   "metadata": {},
   "outputs": [],
   "source": [
    "gds.run_cypher(\"\"\"\n",
    "MATCH "
   ]
  }
 ],
 "metadata": {
  "kernelspec": {
   "display_name": "Python 3 (ipykernel)",
   "language": "python",
   "name": "python3"
  },
  "language_info": {
   "codemirror_mode": {
    "name": "ipython",
    "version": 3
   },
   "file_extension": ".py",
   "mimetype": "text/x-python",
   "name": "python",
   "nbconvert_exporter": "python",
   "pygments_lexer": "ipython3",
   "version": "3.12.3"
  }
 },
 "nbformat": 4,
 "nbformat_minor": 5
}
