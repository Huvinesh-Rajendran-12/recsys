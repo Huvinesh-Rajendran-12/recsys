{
 "cells": [
  {
   "cell_type": "code",
   "execution_count": 21,
   "id": "4625058e-6d70-48d8-851e-2469eea280b8",
   "metadata": {},
   "outputs": [],
   "source": [
    "import pandas as pd\n",
    "import re\n",
    "import jax.numpy as jnp\n",
    "from qdrant_client import QdrantClient\n",
    "from qdrant_client.http.models import Distance, VectorParams, Batch\n",
    "from sentence_transformers import SentenceTransformer"
   ]
  },
  {
   "cell_type": "code",
   "execution_count": 6,
   "id": "bbca6fe1-878c-406d-b297-7ed346553861",
   "metadata": {},
   "outputs": [],
   "source": [
    "client = QdrantClient(host=\"localhost\", port=6333)"
   ]
  },
  {
   "cell_type": "code",
   "execution_count": 7,
   "id": "1b8da7cf-9c0e-496c-8bb0-dbf4b0c4c641",
   "metadata": {},
   "outputs": [
    {
     "data": {
      "text/plain": [
       "True"
      ]
     },
     "execution_count": 7,
     "metadata": {},
     "output_type": "execute_result"
    }
   ],
   "source": [
    "client.create_collection(\n",
    "    collection_name=\"products\",\n",
    "    vectors_config=VectorParams(size=1024, distance=Distance.COSINE)\n",
    ")"
   ]
  },
  {
   "cell_type": "code",
   "execution_count": 22,
   "id": "7ad3ef57-d1fc-4534-a1fe-5f7bc18ae006",
   "metadata": {},
   "outputs": [],
   "source": [
    "model = SentenceTransformer(\"BAAI/bge-m3\")"
   ]
  },
  {
   "cell_type": "code",
   "execution_count": 10,
   "id": "2b1ebb33-8a1f-4c4b-b21d-fcc2450e82c4",
   "metadata": {},
   "outputs": [],
   "source": [
    "df_products = pd.read_csv('./Data/products.csv')"
   ]
  },
  {
   "cell_type": "code",
   "execution_count": 23,
   "id": "934e3918-87d7-4182-bf68-f872d3af1945",
   "metadata": {},
   "outputs": [],
   "source": [
    "# clean the data\n",
    "def clean_text(text):\n",
    "    text = text.lower()\n",
    "    text = re.sub(r'[^\\w\\s]','',text)\n",
    "    text = re.sub(r'\\s+',' ',text)\n",
    "    return text\n",
    "\n",
    "df_products['medicine_name'] = df_products['name'].apply(lambda x: clean_text(x))\n",
    "\n",
    "# define the get embeddings function\n",
    "def get_embeddings(text):\n",
    "    return model.encode([text])[0]\n",
    "\n",
    "# get the embeddings for each product\n",
    "embds = df_products['medicine_name'].apply(get_embeddings)"
   ]
  },
  {
   "cell_type": "code",
   "execution_count": 24,
   "id": "e6da7028-94b9-4268-afff-e54938d1ffef",
   "metadata": {},
   "outputs": [
    {
     "data": {
      "text/plain": [
       "0      [-0.02292479, 0.006841396, -0.042289488, 0.012...\n",
       "1      [-0.033642367, 0.031647194, 0.007422479, -0.02...\n",
       "2      [-0.060467493, 0.020791654, -0.014955107, -0.0...\n",
       "3      [-0.037554678, 0.039451566, -0.007978853, -0.0...\n",
       "4      [-0.0017654726, 0.013356354, -0.05792617, -0.0...\n",
       "                             ...                        \n",
       "595    [0.011444231, 0.006238225, -0.03068991, -0.044...\n",
       "596    [-0.014574654, -0.020354418, -0.022994386, -0....\n",
       "597    [-0.0105250385, 0.042243183, -0.027250353, -0....\n",
       "598    [-0.017817512, 0.0072220247, -0.03571063, -0.0...\n",
       "599    [0.011188283, 0.026707157, -0.06812924, 0.0271...\n",
       "Name: medicine_name, Length: 600, dtype: object"
      ]
     },
     "execution_count": 24,
     "metadata": {},
     "output_type": "execute_result"
    }
   ],
   "source": [
    "embds"
   ]
  },
  {
   "cell_type": "code",
   "execution_count": 25,
   "id": "e901c1d1-c928-4de1-80da-884112ece218",
   "metadata": {},
   "outputs": [],
   "source": [
    "list_dicts = df_products.to_dict(orient='records')"
   ]
  },
  {
   "cell_type": "code",
   "execution_count": 26,
   "id": "d669f0bb-d64d-4682-bb76-cb4daecf31a9",
   "metadata": {},
   "outputs": [
    {
     "data": {
      "text/plain": [
       "UpdateResult(operation_id=1, status=<UpdateStatus.COMPLETED: 'completed'>)"
      ]
     },
     "execution_count": 26,
     "metadata": {},
     "output_type": "execute_result"
    }
   ],
   "source": [
    "client.upsert(\n",
    "    collection_name=\"products\",\n",
    "    points=Batch(\n",
    "        ids=list(range(len(df_products))),\n",
    "        vectors=[emb for emb in embds],\n",
    "        payloads=df_products.to_dict(orient='records')\n",
    "    )\n",
    ")"
   ]
  },
  {
   "cell_type": "code",
   "execution_count": 182,
   "id": "99a00e59-64d6-4814-b7b9-233130fb5586",
   "metadata": {},
   "outputs": [],
   "source": [
    "collection.add(\n",
    "    embeddings=[emb for emb in df_pro,\n",
    "    metadatas=[{\"price\": price} for price in df_products['price']],\n",
    "    documents=[doc for doc in df_products['cleaned_name']],\n",
    "    ids=[str(i) for i in range(len(df_products))]\n",
    ")"
   ]
  },
  {
   "cell_type": "code",
   "execution_count": 163,
   "id": "2a171a46-e6dd-4604-abe7-bfc5973311fb",
   "metadata": {},
   "outputs": [],
   "source": [
    "df_products.to_csv(\"cleaned_products_data.csv\", index=False)"
   ]
  },
  {
   "cell_type": "code",
   "execution_count": null,
   "id": "7ba3d3bf-57a4-4944-8a12-a59b6ae70ef2",
   "metadata": {},
   "outputs": [],
   "source": []
  }
 ],
 "metadata": {
  "kernelspec": {
   "display_name": "Python 3 (ipykernel)",
   "language": "python",
   "name": "python3"
  },
  "language_info": {
   "codemirror_mode": {
    "name": "ipython",
    "version": 3
   },
   "file_extension": ".py",
   "mimetype": "text/x-python",
   "name": "python",
   "nbconvert_exporter": "python",
   "pygments_lexer": "ipython3",
   "version": "3.10.13"
  }
 },
 "nbformat": 4,
 "nbformat_minor": 5
}
